{
  "nbformat": 4,
  "nbformat_minor": 0,
  "metadata": {
    "colab": {
      "name": "02_파이썬기초.ipynb",
      "provenance": [],
      "collapsed_sections": [],
      "authorship_tag": "ABX9TyMamu4GsJe1WIBMQBwqVHLK",
      "include_colab_link": true
    },
    "kernelspec": {
      "name": "python3",
      "display_name": "Python 3"
    },
    "language_info": {
      "name": "python"
    }
  },
  "cells": [
    {
      "cell_type": "markdown",
      "metadata": {
        "id": "view-in-github",
        "colab_type": "text"
      },
      "source": [
        "<a href=\"https://colab.research.google.com/github/easyteachy/makewith/blob/main/02_%ED%8C%8C%EC%9D%B4%EC%8D%AC%EA%B8%B0%EC%B4%88.ipynb\" target=\"_parent\"><img src=\"https://colab.research.google.com/assets/colab-badge.svg\" alt=\"Open In Colab\"/></a>"
      ]
    },
    {
      "cell_type": "markdown",
      "metadata": {
        "id": "ShFeoQocaJfA"
      },
      "source": [
        "# 제어문\n",
        "프로그램을 만드는 재료인 자료형에 대해 알아보았습니다. 이제 프로그램 안에서 자료들을 처리하는 여러가지 방법에 대해 알아보겠습니다.  자료를 처리하는 방법에는 **조건문,반복문**등을 사용할 수 있는데 이러한 것들을 통틀어 **제어문**이라고 합니다.\n"
      ]
    },
    {
      "cell_type": "markdown",
      "metadata": {
        "id": "UUvhs0_sdwZk"
      },
      "source": [
        "#조건문(if문)\n",
        "\n",
        "스크래치의 만약 ~ 이라면에 해당하는 조건문은 어떤 조건에 해당하면 명령을 수행하게 합니다. <br>\n",
        "아래 링크를 클릭하여 조건문에 대해 학습하세요<br>\n",
        "https://www.w3schools.com/python/python_conditions.asp\n",
        "\n"
      ]
    },
    {
      "cell_type": "markdown",
      "metadata": {
        "id": "kdzPksivEvcz"
      },
      "source": [
        ""
      ]
    },
    {
      "cell_type": "markdown",
      "metadata": {
        "id": "4gIPFRlTjEZQ"
      },
      "source": [
        "if문의 생김새\n",
        "\n",
        "```\n",
        "If <조건문1>:\n",
        "    <수행할 문장1> \n",
        "    <수행할 문장2>\n",
        "    ...\n",
        "elif <조건문2>:\n",
        "    <수행할 문장1>\n",
        "    <수행할 문장2>\n",
        "    ...\n",
        "elif <조건문3>:\n",
        "    <수행할 문장1>\n",
        "    <수행할 문장2>\n",
        "    ...\n",
        "...\n",
        "else:\n",
        "   <수행할 문장1>\n",
        "   <수행할 문장2>\n",
        "   ... \n",
        "```\n",
        "\n",
        "수행할 명령은 반드시 들여쓰기를 해야하며 **Tab키를 눌러 들여쓰기** 합니다.<br>\n",
        "\n",
        "조건문 1,2,3에 들어가는 값은 참/거짓 두가지 값을 가지는 데이터타입을 boolean 이라고 합니다 <br>\n",
        "https://www.w3schools.com/python/python_booleans.asp\n",
        "\n"
      ]
    },
    {
      "cell_type": "markdown",
      "metadata": {
        "id": "gQeefFba4VOt"
      },
      "source": [
        "bool 자료형을 만드는 비교연산자의 사용법은 아래와 같습니다.\n",
        "\n",
        "1. a와 b가 같은가: a == b\n",
        "2. a와 b가 같지 않은가: a != b\n",
        "3. b가 a보다 큰가?: a < b\n",
        "4. b가 a보다 크거나 같은가?: a <= b\n",
        "5. a가 b보다 큰가?: a > b\n",
        "6. a가 b보다 크거나 같은가?: a >= b"
      ]
    },
    {
      "cell_type": "markdown",
      "metadata": {
        "id": "MzDsuEdX7jUy"
      },
      "source": [
        "아래 코드들의 빈칸을 채워 프로그램을 완성하세요"
      ]
    },
    {
      "cell_type": "code",
      "metadata": {
        "id": "Zz8ou0u87fTr"
      },
      "source": [
        "# a =10; b=20\n",
        "a,b=10,20\n",
        "\n",
        "#a가 b보다 크다면 \"a가 b보다 큽니다\" 출력하기\n",
        "if :\n",
        "  print()"
      ],
      "execution_count": null,
      "outputs": []
    },
    {
      "cell_type": "code",
      "metadata": {
        "id": "o5QycGvc7q27"
      },
      "source": [
        "a = 2.0\n",
        "b = 4.0\n",
        " \n",
        "# a가 b보다 작다면 \"a가 b보다 작다\" 아니면 \"a는 b보다 작지 않습니다\"\n",
        "if :\n",
        "  print(\"a가 b보다 작다\")\n",
        "else:\n",
        "  print()\n",
        " "
      ],
      "execution_count": null,
      "outputs": []
    },
    {
      "cell_type": "code",
      "metadata": {
        "id": "f8hHZw3U7uPD"
      },
      "source": [
        "a = 3/4\n",
        "b = 7/10\n",
        "\n",
        "'''\n",
        "만약 a가 b 보다 크면 \"a가 b보다 큽니다\"\n",
        "아니고 만약 a가 b보다 작다면 \"a가 b보다 작습니다\"\n",
        "아니고 만약 a와 b가 같다면 \"a와 b가 같습니다\"\n",
        "'''\n",
        "if  :\n",
        "  print(\"a가 b보다 큽니다\")\n",
        "elif   :\n",
        "  print(\"a가 b보다 작습니다\")\n",
        "elif   :\n",
        "  print(\"a와 b가 같습니다.\")\n"
      ],
      "execution_count": null,
      "outputs": []
    },
    {
      "cell_type": "markdown",
      "metadata": {
        "id": "RJ3l-THQbVQJ"
      },
      "source": [
        "문제1)<br>\n",
        "돈을 입력받고 5000원 이상이라면 \"택시를 타세요\" 아니라면 \"걸어가세요\" 를 출력하는 프로그램을 작성하세요"
      ]
    },
    {
      "cell_type": "markdown",
      "metadata": {
        "id": "6QZt579N9DVc"
      },
      "source": [
        "문제2) 나이를 입력받고 입력받은 나이와 내 나이(ex 14)와 비교하여 아래와 같이 구현하세요<br>\n",
        "     입력받은 나이가 14보다 크다면<br>\n",
        "     \"당신은 나보다 나이가 많습니다\"<br>\n",
        "     입력받은 나이가 14보다 작다면<br>\n",
        "     \"당신은 나보다 어립니다\"<br>\n",
        "     같다면<br>\n",
        "     \"당신은 나와 동갑입니다\"\n"
      ]
    },
    {
      "cell_type": "markdown",
      "metadata": {
        "id": "qxUFkzrO8OW8"
      },
      "source": [
        "문제3) 입력값을 받고 입력값이 홀수인지 짝수인지 판별하는 프로그램을 작성하세요"
      ]
    }
  ]
}