{
  "nbformat": 4,
  "nbformat_minor": 0,
  "metadata": {
    "colab": {
      "name": "01_파이썬 기초.ipynb",
      "provenance": [],
      "collapsed_sections": [],
      "authorship_tag": "ABX9TyNpS9s/mSv6Aw72nAAska8M",
      "include_colab_link": true
    },
    "kernelspec": {
      "name": "python3",
      "display_name": "Python 3"
    },
    "language_info": {
      "name": "python"
    }
  },
  "cells": [
    {
      "cell_type": "markdown",
      "metadata": {
        "id": "view-in-github",
        "colab_type": "text"
      },
      "source": [
        "<a href=\"https://colab.research.google.com/github/easyteachy/makewith/blob/main/01_%ED%8C%8C%EC%9D%B4%EC%8D%AC_%EA%B8%B0%EC%B4%88.ipynb\" target=\"_parent\"><img src=\"https://colab.research.google.com/assets/colab-badge.svg\" alt=\"Open In Colab\"/></a>"
      ]
    },
    {
      "cell_type": "markdown",
      "metadata": {
        "id": "Cb64zAIKQaGt"
      },
      "source": [
        "# 파이썬을 학습해 봅시다.\n",
        "\n",
        "**코랩**은 내 PC에 파이썬과 별도의 파이썬편집기를 설치하지 않아도 파이썬을 연습할 수 있는 편리한 도구입니다. 단 PC에 크롬이 설치되어 있어야 합니다.\n",
        "\n",
        "**파이썬 학습**은 [w3cschool](https://www.w3schools.com/python/default.asp)에서 합니다. w3cschool은 파이썬 이외에도 Java, HTML, PHP등 다양한 언어를 튜토리얼 형식으로 학습할 수 있는 좋은 싸이트 입니다."
      ]
    },
    {
      "cell_type": "markdown",
      "metadata": {
        "id": "dVFI6onbRU5w"
      },
      "source": [
        "코드 편집기에서 아래의 코드를 실행시켜 봅시다. 코드를 실행시키는 단축키는 Ctrl + Enter 입니다.\n",
        "\n",
        "\n",
        "```\n",
        "# 주석입니다. 이 문장은 실행되지 않습니다.\n",
        "print('Hello, World')\n",
        "```\n",
        "\n"
      ]
    },
    {
      "cell_type": "markdown",
      "metadata": {
        "id": "Vdhwbm4BSE0W"
      },
      "source": [
        "# 파이썬의 주석\n",
        "파이썬 편집기는 #으로 시작하는 문장은 실행하지 않고 건너띕니다. 이것을 주석이라 하고 보통 코드에 대한 설명을 입력합니다. 한 문장이 아니라 여러 문장의 주석은 ''' 를 사용합니다.<br>\n",
        "아래의 코드를 실행시켜 보고 주석을 달아봅시다.\n",
        "\n",
        "\n",
        "```\n",
        "# 이것은 주석입니다. 이 문장은 실행되지 않습니다. \n",
        "# print('>>>> 0')\n",
        "print('>>>> 1')\n",
        "\n",
        "'''\n",
        " 이것도  주석입니다.\n",
        " 여러줄을 주석처리 해야할 때 이렇게 처리합니다.\n",
        " print('>>>> 2')\n",
        "'''\n",
        "print('>>>> 3')\n",
        "```\n",
        "\n"
      ]
    },
    {
      "cell_type": "markdown",
      "metadata": {
        "id": "MNETKk12UG9R"
      },
      "source": [
        "# 변수\n",
        "변하는 값을 담아놓은 작은 공간을 의미 합니다.<br>\n",
        "스크래치나 엔트리의 변수를 생각하면 됩니다.\n",
        "\n",
        "\n",
        "```\n",
        "x=1\n",
        "```\n",
        "x가 변수이고 1이 변수에 대입되는 값입니다.\n",
        "\n",
        "\n",
        "아래 링크를 클릭하여 파이썬에서의 변수의 사용법을 알아봅시다.<br>\n",
        "https://www.w3schools.com/python/python_variables.asp <br>\n",
        "https://www.w3schools.com/python/python_variables_output.asp"
      ]
    },
    {
      "cell_type": "markdown",
      "metadata": {
        "id": "7-T2sv0h7aVy"
      },
      "source": [
        "1.   변수 a에 10을 대입시키고 a의 값을 출력하세요.\n",
        "2.   변수 a에 내 이름을 대입시키고 a의 값을 출력하세요\n",
        "\n"
      ]
    },
    {
      "cell_type": "markdown",
      "metadata": {
        "id": "Zuz7XHlzXdz1"
      },
      "source": [
        "#자료형\n",
        "변수에 대입되는 데이터에는 다양한 종류가 있습니다.\n",
        "123,3.14등 숫자로 이루어진 숫자형이 있고 \"나는 한국인입니다\", \"A\" 등과 같은 문자형 그리고 참/거짓 과 같은 논리형 등등 다양한 자료형이 있습니다.<br>\n",
        "아래의 링크에서 파이썬에서 제공되는 다양한 자료형을 구경해보세요<br>\n",
        "특히 **int,float,str,boolean**에 신경써서 살펴봅시다.<br>\n",
        "https://www.w3schools.com/python/python_datatypes.asp "
      ]
    },
    {
      "cell_type": "markdown",
      "metadata": {
        "id": "mOE2YRxPYrOO"
      },
      "source": [
        "# 숫자형\n",
        "숫자형(Number)이란 숫자 형태로 이루어진 자료형으로 123 같은 int, 12.34 같은 float(실수), complex(복소수) 등이 있습니다. 아래 링크에서 숫자형 데이타를 학습하세요.<br>\n",
        "https://www.w3schools.com/python/python_numbers.asp\n",
        "\n",
        "파이썬은 계산기처럼 연산을 할 수 있습니다.\n",
        "변수 a,b에 10, 2를 대입 시키고 사칙연산(+,-,*,/)를 해 봅시다.\n",
        "\n",
        "```\n",
        "# 사칙연산\n",
        "a = 10\n",
        "b = 2\n",
        "print(a+b)\n",
        "print(a-b)\n",
        "print(a*b)\n",
        "print(a/b)\n",
        "```\n"
      ]
    },
    {
      "cell_type": "markdown",
      "metadata": {
        "id": "ddF3CsZe02hC"
      },
      "source": [
        "나눗셈의 몫을 반환하는 // 와 나머지를 반환하는 % 연산자를 사용해 봅시다.\n",
        "\n",
        "\n",
        "```\n",
        "a=7\n",
        "b=3\n",
        "# 나눗셈\n",
        "print(a/b)\n",
        "\n",
        "# 몫을 반환\n",
        "print(a//b)\n",
        "\n",
        "#나머지 반환\n",
        "print(a%b)\n",
        "```"
      ]
    },
    {
      "cell_type": "markdown",
      "metadata": {
        "id": "2iCe8s1s-vZw"
      },
      "source": [
        "문제1. 위 사칙연산 및 //, % 연산자를 이용하여 변수 값을 달리주어 결과를 출력하는 프로그램을 만들어 봅시다."
      ]
    },
    {
      "cell_type": "markdown",
      "metadata": {
        "id": "O1ApkAAzjUs7"
      },
      "source": [
        "문제 2. 영희의 성적표 입니다. 평균점수를 구하세요 <br>\n",
        "*   영어 : 95점\n",
        "*   국어 : 85점\n",
        "*   수학 : 60점\n",
        "*   과학 : 70점\n",
        "\n"
      ]
    },
    {
      "cell_type": "markdown",
      "metadata": {
        "id": "zhnvVlDukJWU"
      },
      "source": [
        "# 문자열 자료형\n",
        "문자열(String)이란 문자, 단어 등으로 구성된 문자들의 집합을 의미합니다.. 예를 들어 다음과 같은 것들이 문자열입니다.<br>\n",
        "\"Life is too short, You need Python\"<br>\n",
        "\"a\"<br>\n",
        "\"123\"<br>\n",
        "아래 링크에서 문자열 자료형에 대해 알아봅시다.<br>\n",
        "https://www.w3schools.com/python/python_strings.asp\n",
        "\n",
        "아래 예제를 실행하여 출력결과를 살펴봅시다.\n"
      ]
    },
    {
      "cell_type": "markdown",
      "metadata": {
        "id": "wvFeg40328oC"
      },
      "source": [
        "1. 문자열의 곱셈\n",
        "```\n",
        "a = \"python\"\n",
        "print(a * 2)\n",
        "```\n",
        "\n",
        "    hello 50번 출력하기\n"
      ]
    },
    {
      "cell_type": "markdown",
      "metadata": {
        "id": "pbnMgkAZ-RPR"
      },
      "source": [
        "\n",
        "2. 문자열의 덧셈\n",
        "```\n",
        "head = \"Python\"\n",
        "tail = \" is fun!\"\n",
        "print(head + tail)\n",
        "```\n",
        "    문자열의 덧셈으로 \"Makewith\" \"Python\" \"재미있어\" 연결하여 출력하기\n"
      ]
    },
    {
      "cell_type": "markdown",
      "metadata": {
        "id": "dNQ3UyMU-W2A"
      },
      "source": [
        "2. 1   문자열의 덧셈\n",
        "\n",
        "    ```\n",
        "head = \"1+2 = \"\n",
        "tail = 3\n",
        "print(head+tail)\n",
        "```\n",
        "문자열인 head와 숫자형인 3 끼리는 덧셈이 되지 않습니다.\n",
        "\n",
        "\n"
      ]
    },
    {
      "cell_type": "markdown",
      "metadata": {
        "id": "5jNvoP9V_Nfp"
      },
      "source": [
        "3.  문자열과 숫자의 출력\n",
        "\n",
        "    ```\n",
        "head = \"1+2 = \"\n",
        "tail = 3\n",
        "print(head,tail)\n",
        "```\n",
        "    변수 age에 나이를 대입시키고 '나는 00살 입니다' 출력하기"
      ]
    },
    {
      "cell_type": "markdown",
      "metadata": {
        "id": "7o-WRGiF3Bo4"
      },
      "source": [
        "3. 1 Format함수에 대해 알아봅시다. (https://www.w3schools.com/python/python_strings_format.asp) 아래 예제를 실행해 봅시다\n",
        "```\n",
        "a = 1000\n",
        "b = 1\n",
        "s = \"사과 {}개는 {}원 입니다\".format(a,b)\n",
        "print(s)\n",
        "```\n",
        "```\n",
        "a = 100\n",
        "b = 3.0\n",
        "c = 2\n",
        "s = \"{}*{}/{}={}\".format(a,b,c,a*b/c)\n",
        "print(s)\n",
        "```\n",
        "\n",
        "    format 함수를 이용하여 반지름이 15인 원의 넓이를 구하는 식과 답 출력하기"
      ]
    },
    {
      "cell_type": "markdown",
      "metadata": {
        "id": "EneTaBJL_fD9"
      },
      "source": [
        "<문제>\n",
        "1.   문자열의 곱셈을 이용하여 아래와 같이 출력하는 프로그램을 작성하세요<br>\n",
        "==================================================<br>\n",
        "My Program<br>\n",
        "==================================================<br>"
      ]
    },
    {
      "cell_type": "markdown",
      "metadata": {
        "id": "4j9GmaWvAi_k"
      },
      "source": [
        "2. 변수 year에 태어난 연도를 대입시키고 아래와 같이 출력하세요.<br>\n",
        "내가 태어난 해는 2000 년도 입니다."
      ]
    },
    {
      "cell_type": "markdown",
      "metadata": {
        "id": "M8mJx9Li_3XL"
      },
      "source": [
        "3. 변수 a에 수박의 갯수, 변수 b에 수박의 가격을 대입시키고 아래와 같이 출력하는 프로그램을 작성하세요(format 함수 사용하기).<br>\n",
        "수박 1개의 가격은 15000원 입니다.<br>\n",
        "수박 3개의 가격은 45000원 입니다.<br>"
      ]
    },
    {
      "cell_type": "markdown",
      "metadata": {
        "id": "XJFE2C5GGbLp"
      },
      "source": [
        "# 사용자 입력\n",
        "사용자가 입력한 값을 처리할 수 있습니다. 스크래치의 묻고 기다리기 블럭을 생각하면 쉽게 이해가 됩니다. <br>\n",
        "아래의 링크를 클릭하여 사용자입력에 대해 학습합니다.<br>\n",
        "https://www.w3schools.com/python/python_user_input.asp"
      ]
    },
    {
      "cell_type": "markdown",
      "metadata": {
        "id": "wD04twoGMOyC"
      },
      "source": [
        "사용자 입력 받은 값을 숫자로 변환시키기\n",
        "\n",
        "\n",
        "```\n",
        "a = input(\"숫자를 입력하세요\")\n",
        "print(type(a))\n",
        "\n",
        "#a의 자료형을 String에서 int형으로 형변환 시킴\n",
        "#a = int(a)\n",
        "#print(type(a))\n",
        "\n",
        "print(a+1)\n",
        "```\n",
        "\n"
      ]
    },
    {
      "cell_type": "markdown",
      "metadata": {
        "id": "YSCl1v13I17q"
      },
      "source": [
        "문제 1.  변수 a와 변수 b를 입력받고 a와 b를 사칙연산한 계산식과 값을 출력하는 프로그램을 작성해 봅시다.<br>       \n",
        "        \n",
        "        변수 a를 입력하세요(10입력)\n",
        "        변수 b를 입력하세요(2입력)\n",
        "        10 + 2 = 12\n",
        "        10 - 2 = 8 \n",
        "        10 * 2 = 20\n",
        "        10 / 2 = 5 \n",
        "\n"
      ]
    },
    {
      "cell_type": "markdown",
      "metadata": {
        "id": "3TVMoQcqHvCg"
      },
      "source": [
        "문제 2. 인적사항을 묻고 이것을 출력하는 프로그램을 작성해 봅시다. <br>\n",
        "\n",
        "        이름은 무엇인가요?(홍길동 입력)\n",
        "        다니는 학교는 어디인가요?(영통중학교 입력) \n",
        "        혈액형은 무엇인가요?(B형 입력) \n",
        "        요즘 가장 관심있는것은 무엇인가요?(환경문제 입력)\n",
        "        <홍길동님은 영통중학교에 다니고 있으며 혈액형은 B형이고 관심있는 것은 환경문제 입니다.>\n",
        "\n",
        "\n",
        "\n",
        "\n"
      ]
    }
  ]
}